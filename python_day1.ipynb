{
  "nbformat": 4,
  "nbformat_minor": 0,
  "metadata": {
    "colab": {
      "provenance": [],
      "authorship_tag": "ABX9TyOmHZWzGWiasLx+NMZTbGvL",
      "include_colab_link": true
    },
    "kernelspec": {
      "name": "python3",
      "display_name": "Python 3"
    },
    "language_info": {
      "name": "python"
    }
  },
  "cells": [
    {
      "cell_type": "markdown",
      "metadata": {
        "id": "view-in-github",
        "colab_type": "text"
      },
      "source": [
        "<a href=\"https://colab.research.google.com/github/iamrajveer759/Data-Science-With-Machine-Learning/blob/main/python_day1.ipynb\" target=\"_parent\"><img src=\"https://colab.research.google.com/assets/colab-badge.svg\" alt=\"Open In Colab\"/></a>"
      ]
    },
    {
      "cell_type": "markdown",
      "source": [
        "####**Q1. What is pyhton why we use python?** 🔰\n",
        "\n",
        "Python is a **high-level, interpreted programming languag**  known for its readability, simplicity, and versatility. It was created by Guido van Rossum and first released in 1991. Python is often used for web development, data analysis, artificial intelligence, machine learning, automation, and more.\n",
        "\n",
        "#### ➡ **why we use python?**\n",
        "\n",
        "* **Readable Syntax:** Python's syntax is designed to be clear and easy to understand, making it accessible to beginners.\n",
        "\n",
        "*   **Interpreted Language:** Python code is executed line by line, which makes\n",
        "debugging easier and eliminates the need for compiling before running programs.\n",
        "\n",
        "\n",
        "\n",
        "*  **Extensive Libraries:** Python has a vast standard library and a wide range of third-party libraries that extend its capabilities, making it useful for different types of tasks.\n",
        "\n",
        "*   **Community Support:** Python has a large and active community, which means plenty of resources, tutorials, and frameworks are available to help developers.\n",
        "\n",
        "*  **Cross-Platform:** Python runs on various operating systems, including Windows, macOS, and Linux.\n",
        "\n"
      ],
      "metadata": {
        "id": "Ri8sTvpkFLma"
      }
    },
    {
      "cell_type": "code",
      "execution_count": null,
      "metadata": {
        "id": "MBMTVxepEolG"
      },
      "outputs": [],
      "source": [
        "#First Program\n",
        "\n",
        "print(\"Hello Wolrd\")\n",
        "\n",
        "# print  statement used for output text\n",
        "# print is function\n",
        "\n",
        "\"\"\"print statement: When you run the print statement, Python will simply display the value in the parentheses.\n",
        "The value in the parentheses is called the argument.\"\"\"\n",
        "\n",
        "name=\"Rajveer\"\n",
        "age=22\n",
        "height=1.75\n",
        "is_student=True\n",
        "\n",
        "\n",
        "\n",
        "\n",
        "\n",
        "\"\"\" = equal Opertor is used to assgin value to veriable.\"\"\"\n",
        "\n",
        "print(\"Name:\",name)\n",
        "print(\"Age:\",age)\n",
        "print(\"Height:\",height)\n",
        "print(\"Is Student:\",is_student)\n",
        "\n",
        "# How Getting Data Type?\n",
        "\n",
        "\"\"\"We use type() function to get data type() of objects\"\"\"\n",
        "\n",
        "print(type(name))\n",
        "print(type(age))\n",
        "print(type(height))\n",
        "print(type(is_student))\n",
        "\n",
        "\"\"\" (String is a sequence of characters.) \"\"\"\n",
        "\n",
        "\n",
        "\n",
        "\n",
        "\n",
        "\n",
        "\n",
        "\n",
        "\n",
        "\n",
        "\n"
      ]
    },
    {
      "cell_type": "markdown",
      "source": [
        "####**what is veriable?**\n",
        "↪ veriables are  Containers to storing data value.\n",
        "\n",
        "####**what is syntax?**\n",
        "↪ way of writing code  \n",
        "\n",
        "####**what is Data type?**:\n",
        "↪ which type of data you want to store\n",
        "\n",
        "\n",
        "**Data type in Python**\n",
        "*  Text Type : String  \n",
        "*  Numric Type : integer, float, complex\n",
        "*  Sequence Type: list, tuple, range\n",
        "*  Mapping Type: dictionary\n",
        "*  Set Type: set\n",
        "*  Boolen Type: bool (0(flase) & 1(true))\n",
        "\n",
        "\n",
        "####**Veriables Names**\n",
        "↪ Veriables Names are case-senstive\n",
        "\n",
        "↪ example: myname and MyName is not same\n",
        "\n",
        "\n",
        "####**Rules**\n",
        "\n",
        "*  Veriables names can not start with number\n",
        "\n",
        "*  First Character of the veriables must be an alphabet or underscore\n",
        "\n",
        "*  Indentifires name must not contain any white space or specical Characters\n",
        "\n",
        "*  Indentifires name must not similars to any keyword define in Language.\n",
        "  \n",
        "\n",
        "***Example of valid Veriables Names***  \n",
        "\n",
        "➡  name= \"A\"\n",
        "\n",
        "➡  Name= \"B\"\n",
        "\n",
        "➡  naMe= \"C\"\n",
        "\n",
        "➡  NAME= \"D\"\n",
        "\n",
        "➡  name_= \"E\"\n",
        "\n",
        "➡  _Name= \"F\"\n",
        "\n",
        "➡  name12= \"G\"\n",
        "\n",
        "➡  na12me= \"H\"\n",
        "\n",
        "\n",
        "\n",
        "***Example of in-valid Veriables Names***  \n",
        "\n",
        "➡  12name= \"A\"\n",
        "\n",
        "➡  my-name= \"B\"\n",
        "\n",
        "➡  %name= \"C\"\n",
        "\n",
        "➡  name12= \"H\"\n",
        "\n",
        "➡  if= \"D\"\n",
        "\n",
        "***A Syntactic error:***\n",
        "is when Python does not understand your code. For example, if you spell print \"frint\", you will get an error message.\n",
        "\n",
        "***A Semantic error:*** is when your logic is wrong."
      ],
      "metadata": {
        "id": "3-XBZ4N5L901"
      }
    },
    {
      "cell_type": "markdown",
      "source": [],
      "metadata": {
        "id": "Hz_OqUf_HdeH"
      }
    },
    {
      "cell_type": "code",
      "source": [],
      "metadata": {
        "id": "OJC-OLxmHeAX"
      },
      "execution_count": null,
      "outputs": []
    },
    {
      "cell_type": "markdown",
      "source": [
        "\n",
        "####**Setting the spacific Data Type**\n",
        "####*Type casting*\n",
        "\n",
        "  change one data type into others data type objects.\n",
        "\n",
        "***Examples***:\n",
        "\n",
        "↪ You can convert one date Type to anthoer with type:\n",
        "\n",
        "\n",
        "\n",
        "```\n",
        "x=10 #int\n",
        "y=3.8 #float\n",
        "\n",
        "#convert from int to float\n",
        "a=float(x) => 10.0\n",
        "\n",
        "\n",
        "#convert from float to int\n",
        "b=int(y) => 3\n",
        "# New Section\n",
        "```\n",
        "\n",
        "\n",
        "\n",
        "\n",
        "\n",
        "\n"
      ],
      "metadata": {
        "id": "vZKiyp25by0f"
      }
    },
    {
      "cell_type": "code",
      "source": [
        "\n",
        "#Expressions:\n",
        "\"\"\"Expressions describe a type of operation that computers perform.\n",
        "Expressions are operations that Python performs. \"\"\"\n",
        "\n",
        "# For example, basic arithmetic  20+20\n",
        "\n",
        "# We call the numbers operands and the maths symbols, in this case addition, are called operators.\n",
        "\n",
        "\n",
        "print('3+2') #output:3+2\n",
        "print(2+3)   #output:5\n",
        "print(8/4)   #output: 2.0   => / ford slash indicate division in float\n",
        "print(8//4)  #output: 2   => // ford slash indicate integer value  in division\n",
        "print((8+2)*3) #output: 30  => The expressions in the parentheses are performed first. => * astrick indicate multiplication\n",
        "print(2**3)  #output: 2*2*2=8   =>   double  **  astrick indicate expoents\n",
        "print(20%6)  #output: 2 pachi\n",
        "print(5%8)   #output: 5 b/c above value is smaller then below\n",
        "\n",
        "\n",
        "\n",
        "\n",
        "\n"
      ],
      "metadata": {
        "id": "FlO0MpYohy0B"
      },
      "execution_count": null,
      "outputs": []
    },
    {
      "cell_type": "markdown",
      "source": [
        "### **1. Strings as Arrays** ✅\n",
        "\n",
        "↪  You can think of a string like a list of characters.\n",
        "\n",
        "↪  Each character has a position starting from 0.\n",
        "\n",
        "```\n",
        "a = \"Hello\"\n",
        "print(a[1])  # Output: e (the second character)\n",
        "\n",
        "```\n",
        "\n",
        "### **2. Slicing Strings**\n",
        "\n",
        "↪  You can think of a string like a list of characters.\n",
        "\n",
        "```\n",
        "\n",
        "x = \"Hello world\"\n",
        "print(x[2:5])  # Output: llo (characters from position 2 to 4)\n",
        "\n",
        "start postion include\n",
        "end postion not include\n",
        "\n",
        "\n",
        "```\n",
        "\n",
        "### **3. Negative Indexing**\n",
        "\n",
        "↪  Negative numbers count from the end of the string.\n",
        "\n",
        "\n",
        "```\n",
        "x = \"Hello world\"\n",
        "print(x[-5:-2])  # Output: orl (characters from the 5th last to the 3rd last)\n",
        "\n",
        "```\n",
        "\n"
      ],
      "metadata": {
        "id": "ASEwmiJ2KF9o"
      }
    },
    {
      "cell_type": "code",
      "source": [
        "###***Examples***\n",
        "a = [3, 5, 2, 8, 3]\n",
        "print(a[3])      # Output: 8 (the 4th item)\n",
        "print(a[4])      # Output: 3 (the 5th item)\n",
        "print(a[2:3])    # Output: [2] (just the 3rd item)\n",
        "print(a[2:2])    # Output: [] (nothing, because start and end are the same)\n",
        "print(a[1:7])    # Output: [5, 2, 8, 3] (from the 2nd to the last item)\n",
        "print(a[-4:-2])  # Output: [5, 2] (from the 4th last to the 3rd last item)\n"
      ],
      "metadata": {
        "id": "PG1tA-oeMTJF"
      },
      "execution_count": null,
      "outputs": []
    }
  ]
}