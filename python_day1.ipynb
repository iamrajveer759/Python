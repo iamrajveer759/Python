{
  "nbformat": 4,
  "nbformat_minor": 0,
  "metadata": {
    "colab": {
      "provenance": [],
      "authorship_tag": "ABX9TyOXkZBG1oIbT64/uO0mE7ya",
      "include_colab_link": true
    },
    "kernelspec": {
      "name": "python3",
      "display_name": "Python 3"
    },
    "language_info": {
      "name": "python"
    }
  },
  "cells": [
    {
      "cell_type": "markdown",
      "metadata": {
        "id": "view-in-github",
        "colab_type": "text"
      },
      "source": [
        "<a href=\"https://colab.research.google.com/github/iamrajveer759/Data-Science-With-Machine-Learning/blob/main/python_day1.ipynb\" target=\"_parent\"><img src=\"https://colab.research.google.com/assets/colab-badge.svg\" alt=\"Open In Colab\"/></a>"
      ]
    },
    {
      "cell_type": "markdown",
      "source": [
        "####**Q1. What is pyhton why we use python?** 🔰\n",
        "\n",
        "Python is a **high-level, interpreted programming languag**  known for its readability, simplicity, and versatility. It was created by Guido van Rossum and first released in 1991. Python is often used for web development, data analysis, artificial intelligence, machine learning, automation, and more.\n",
        "\n",
        "#### ➡ **why we use python?**\n",
        "\n",
        "* **Readable Syntax:** Python's syntax is designed to be clear and easy to understand, making it accessible to beginners.\n",
        "\n",
        "*   **Interpreted Language:** Python code is executed line by line, which makes\n",
        "debugging easier and eliminates the need for compiling before running programs.\n",
        "\n",
        "\n",
        "\n",
        "*  **Extensive Libraries:** Python has a vast standard library and a wide range of third-party libraries that extend its capabilities, making it useful for different types of tasks.\n",
        "\n",
        "*   **Community Support:** Python has a large and active community, which means plenty of resources, tutorials, and frameworks are available to help developers.\n",
        "\n",
        "*  **Cross-Platform:** Python runs on various operating systems, including Windows, macOS, and Linux.\n",
        "\n"
      ],
      "metadata": {
        "id": "Ri8sTvpkFLma"
      }
    },
    {
      "cell_type": "code",
      "execution_count": null,
      "metadata": {
        "id": "MBMTVxepEolG"
      },
      "outputs": [],
      "source": [
        "#First Program\n",
        "\n",
        "print(\"Hello Wolrd\")\n",
        "\n",
        "# print  statement used for output text\n",
        "# print is function\n",
        "\n",
        "\n",
        "name=\"Rajveer\"\n",
        "age=22\n",
        "height=1.75\n",
        "is_student=True\n",
        "\n",
        "print(\"Name:\",name)\n",
        "print(\"Age:\",age)\n",
        "print(\"Height:\",height)\n",
        "print(\"Is Student:\",is_student)\n",
        "\n",
        "# How Getting Data Type?\n",
        "\n",
        "\"\"\"We use type() function to get data type() of objects\"\"\"\n",
        "\n",
        "print(type(name))\n",
        "print(type(age))\n",
        "print(type(height))\n",
        "print(type(is_student))\n",
        "\n",
        "\n",
        "\n",
        "\n",
        "\n",
        "\n",
        "\n",
        "\n",
        "\n"
      ]
    },
    {
      "cell_type": "markdown",
      "source": [
        "####**what is verible?**\n",
        "veribles are  Containers to storing data value.\n",
        "\n",
        "####**what is syntax?**\n",
        "way of writing code  \n",
        "\n",
        "####**what is Data type?**\n",
        "which type of data you want to store\n",
        "\n",
        "**Data type in Python**\n",
        "\n",
        "*  Numric Type : integer, float, complex\n",
        "*  Sequence Type: list, tuple, range\n",
        "*  Mapping Type: dictionary\n",
        "*  Set Type: set\n",
        "*  Boolen Type: bool (0(flase) & 1(true))\n",
        "\n",
        "\n",
        "\n",
        "\n",
        "\n"
      ],
      "metadata": {
        "id": "3-XBZ4N5L901"
      }
    }
  ]
}