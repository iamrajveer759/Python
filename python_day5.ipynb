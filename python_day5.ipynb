{
  "nbformat": 4,
  "nbformat_minor": 0,
  "metadata": {
    "colab": {
      "provenance": [],
      "authorship_tag": "ABX9TyNpUzLt5lrxmRnuoC1gVSa2",
      "include_colab_link": true
    },
    "kernelspec": {
      "name": "python3",
      "display_name": "Python 3"
    },
    "language_info": {
      "name": "python"
    }
  },
  "cells": [
    {
      "cell_type": "markdown",
      "metadata": {
        "id": "view-in-github",
        "colab_type": "text"
      },
      "source": [
        "<a href=\"https://colab.research.google.com/github/iamrajveer759/Data-Science-With-Machine-Learning/blob/main/python_day5.ipynb\" target=\"_parent\"><img src=\"https://colab.research.google.com/assets/colab-badge.svg\" alt=\"Open In Colab\"/></a>"
      ]
    },
    {
      "cell_type": "markdown",
      "source": [
        "## **Loops**\n",
        "\n",
        "\n",
        "\n",
        "↪  simplify the complex problem into easywayones\n",
        "\n",
        "↪ For Example: if we need print first 10 natural number then insted of using print statement 10 times. We can print inside loops runs upto 10 ittertion\n",
        "\n",
        "↪ loops help automate repetitive tasks,\n",
        "\n",
        "\n",
        "\n",
        "\n",
        "### **1. for loop**\n",
        "\n",
        "\n",
        "↪ For loops automate repetitive tasks, making it easier to handle large datasets, perform experiments, and build efficient data processing pipelines in data science.\n",
        "\n",
        "↪  used for iterating over a sequence of list, tuple, dictionary and set.\n",
        "\n",
        "↪ Iterating means processing each item in a sequence, one at a time.\n",
        "\n",
        "\n",
        "```\n",
        "#syntax\n",
        "for item in sequence:\n",
        "    # Code to execute for each item\n",
        "\n",
        "```\n",
        "\n",
        "\n",
        "\n",
        "```\n",
        "#Looping Through a List\n",
        "\n",
        "#If you have a list of items and want to print each item, you can use a for loop:\n",
        "\n",
        "fruits = ['apple', 'banana', 'cherry']\n",
        "\n",
        "for fruit in fruits:\n",
        "    print(fruit)\n",
        "\n",
        "Output:\n",
        "    apple\n",
        "    banana\n",
        "    cherry\n",
        "\n",
        "\n",
        "```\n"
      ],
      "metadata": {
        "id": "ROGftcG1zX9j"
      }
    },
    {
      "cell_type": "code",
      "source": [
        "fruits = ['apple', 'banana', 'cherry']\n",
        "\n",
        "for fruit in fruits:\n",
        "    print(fruit)"
      ],
      "metadata": {
        "colab": {
          "base_uri": "https://localhost:8080/"
        },
        "id": "Dr633mAM8AaD",
        "outputId": "a5678772-8634-4e2e-976b-2ee1da713e39"
      },
      "execution_count": 1,
      "outputs": [
        {
          "output_type": "stream",
          "name": "stdout",
          "text": [
            "apple\n",
            "banana\n",
            "cherry\n"
          ]
        }
      ]
    },
    {
      "cell_type": "markdown",
      "source": [
        "\n",
        "# **Range Function**\n",
        "\n",
        "↪ The range() function in Python generates a sequence of numbers. It's often used in for loops to repeat an action a specific number of times.\n",
        "\n",
        "\n",
        "\n",
        "### **How the range() Function Works**\n",
        "\n",
        "The range() function can take up to three arguments:\n",
        "\n",
        "\n",
        "\n",
        "\n",
        "1.   start: The starting number of the sequence.\n",
        "2.   stop: The number where the sequence ends (but does not include this number).\n",
        "\n",
        "3. step: The difference between each number in the sequence.\n",
        "\n",
        "\n",
        "\n",
        "\n",
        "```\n",
        "#Default Range\n",
        "\n",
        "for i in range(5):\n",
        "    print(i)\n",
        "\n",
        "Output:  \n",
        "0\n",
        "1\n",
        "2\n",
        "3\n",
        "4\n",
        "\n",
        "Explanation: range(5) generates numbers from 0 to 4. The loop prints each number.\n",
        "\n",
        "```\n",
        "\n",
        "\n",
        "\n",
        "```\n",
        "#Custom Start and Stop\n",
        "\n",
        "for i in range(2, 6):\n",
        "    print(i)\n",
        "\n",
        "\n",
        "Output:  \n",
        "2\n",
        "3\n",
        "4\n",
        "5\n",
        "\n",
        "Explanation: range(2, 6) generates numbers from 2 to 5. The loop prints each number.\n",
        "```\n",
        "\n",
        "\n",
        "\n",
        "```\n",
        "#Custom Start, Stop, and Step\n",
        "\n",
        "for i in range(1, 10, 2):\n",
        "    print(i)\n",
        "\n",
        "\n",
        "\n",
        "Output:  \n",
        "1\n",
        "3\n",
        "5\n",
        "7\n",
        "9\n",
        "\n",
        "Explanation: range(1, 10, 2) generates numbers from 1 to 9, counting by 2 each time.\n",
        "```"
      ],
      "metadata": {
        "id": "IbAHxVjB8lZi"
      }
    }
  ]
}