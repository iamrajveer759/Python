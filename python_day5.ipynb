{
  "nbformat": 4,
  "nbformat_minor": 0,
  "metadata": {
    "colab": {
      "provenance": [],
      "authorship_tag": "ABX9TyNT5I6K+3W1T9rIUJlSZM/S",
      "include_colab_link": true
    },
    "kernelspec": {
      "name": "python3",
      "display_name": "Python 3"
    },
    "language_info": {
      "name": "python"
    }
  },
  "cells": [
    {
      "cell_type": "markdown",
      "metadata": {
        "id": "view-in-github",
        "colab_type": "text"
      },
      "source": [
        "<a href=\"https://colab.research.google.com/github/iamrajveer759/Data-Science-With-Machine-Learning/blob/main/python_day5.ipynb\" target=\"_parent\"><img src=\"https://colab.research.google.com/assets/colab-badge.svg\" alt=\"Open In Colab\"/></a>"
      ]
    },
    {
      "cell_type": "markdown",
      "source": [
        "## **Loops**\n",
        "\n",
        "\n",
        "\n",
        "↪  simplify the complex problem into easywayones\n",
        "\n",
        "↪ For Example: if we need print first 10 natural number then insted of using print statement 10 times. We can print inside loops runs upto 10 ittertion\n",
        "\n",
        "↪ loops help automate repetitive tasks,\n",
        "\n",
        "\n",
        "\n",
        "\n",
        "### **1. for loop**\n",
        "\n",
        "\n",
        "↪ For loops automate repetitive tasks, making it easier to handle large datasets, perform experiments, and build efficient data processing pipelines in data science.\n",
        "\n",
        "↪  used for iterating over a sequence of list, tuple, dictionary and set.\n",
        "\n",
        "↪ Iterating means processing each item in a sequence, one at a time.\n",
        "\n",
        "\n",
        "```\n",
        "#syntax\n",
        "for item in sequence:\n",
        "    # Code to execute for each item\n",
        "\n",
        "```\n",
        "\n",
        "\n",
        "\n",
        "```\n",
        "#Looping Through a List\n",
        "\n",
        "#If you have a list of items and want to print each item, you can use a for loop:\n",
        "\n",
        "fruits = ['apple', 'banana', 'cherry']\n",
        "\n",
        "for fruit in fruits:\n",
        "    print(fruit)\n",
        "\n",
        "Output:\n",
        "    apple\n",
        "    banana\n",
        "    cherry\n",
        "\n",
        "\n",
        "```\n"
      ],
      "metadata": {
        "id": "ROGftcG1zX9j"
      }
    },
    {
      "cell_type": "code",
      "source": [
        "fruits = ['apple', 'banana', 'cherry']\n",
        "\n",
        "for fruit in fruits:\n",
        "    print(fruit)"
      ],
      "metadata": {
        "colab": {
          "base_uri": "https://localhost:8080/"
        },
        "id": "Dr633mAM8AaD",
        "outputId": "a5678772-8634-4e2e-976b-2ee1da713e39"
      },
      "execution_count": null,
      "outputs": [
        {
          "output_type": "stream",
          "name": "stdout",
          "text": [
            "apple\n",
            "banana\n",
            "cherry\n"
          ]
        }
      ]
    },
    {
      "cell_type": "markdown",
      "source": [
        "\n",
        "# **Range Function**\n",
        "\n",
        "↪ The range() function in Python generates a sequence of numbers. It's often used in for loops to repeat an action a specific number of times.\n",
        "\n",
        "\n",
        "\n",
        "### **How the range() Function Works**\n",
        "\n",
        "The range() function can take up to three arguments:\n",
        "\n",
        "\n",
        "\n",
        "\n",
        "1.   start: The starting number of the sequence.\n",
        "2.   stop: The number where the sequence ends (but does not include this number).\n",
        "\n",
        "3. step: The difference between each number in the sequence.\n",
        "\n",
        "\n",
        "\n",
        "\n",
        "```\n",
        "#Default Range\n",
        "\n",
        "for i in range(5):\n",
        "    print(i)\n",
        "\n",
        "Output:  \n",
        "0\n",
        "1\n",
        "2\n",
        "3\n",
        "4\n",
        "\n",
        "Explanation: range(5) generates numbers from 0 to 4. The loop prints each number.\n",
        "\n",
        "```\n",
        "\n",
        "\n",
        "\n",
        "```\n",
        "#Custom Start and Stop\n",
        "\n",
        "for i in range(2, 6):\n",
        "    print(i)\n",
        "\n",
        "\n",
        "Output:  \n",
        "2\n",
        "3\n",
        "4\n",
        "5\n",
        "\n",
        "Explanation: range(2, 6) generates numbers from 2 to 5. The loop prints each number.\n",
        "```\n",
        "\n",
        "\n",
        "\n",
        "```\n",
        "#Custom Start, Stop, and Step\n",
        "\n",
        "for i in range(1, 10, 2):\n",
        "    print(i)\n",
        "\n",
        "\n",
        "\n",
        "Output:  \n",
        "1\n",
        "3\n",
        "5\n",
        "7\n",
        "9\n",
        "\n",
        "Explanation: range(1, 10, 2) generates numbers from 1 to 9, counting by 2 each time.\n",
        "```"
      ],
      "metadata": {
        "id": "IbAHxVjB8lZi"
      }
    },
    {
      "cell_type": "code",
      "source": [
        "#Examples\n",
        "\n",
        "\n",
        "print(\"Default Range\")\n",
        "for i in range(5):\n",
        "    print(i)\n",
        "\n",
        "\n",
        "print( \"Custom Start and Stop\" )\n",
        "for j in range(2, 6):\n",
        "  print(j)\n",
        "\n",
        "print( \"Custom Start, Stop, and Step\" )\n",
        "for k in range(1, 10, 2):\n",
        "    print(k)\n"
      ],
      "metadata": {
        "id": "I1XO56iz-cms"
      },
      "execution_count": null,
      "outputs": []
    },
    {
      "cell_type": "code",
      "source": [
        "#Practice Loops\n",
        "\n",
        "\n",
        "Natural_Number=[1,2,3,4,5]\n",
        "\n",
        "for number in Natural_Number:\n",
        " print(number)\n",
        "\n",
        "# in for loop : It connects the loop variable (like number) with the sequence (Natural_Number).\n",
        "\n"
      ],
      "metadata": {
        "colab": {
          "base_uri": "https://localhost:8080/"
        },
        "id": "btP15sXpuVl7",
        "outputId": "1243e754-8fed-46f8-d006-504f014a899a"
      },
      "execution_count": null,
      "outputs": [
        {
          "output_type": "stream",
          "name": "stdout",
          "text": [
            "1\n",
            "2\n",
            "3\n",
            "4\n",
            "5\n"
          ]
        }
      ]
    },
    {
      "cell_type": "code",
      "source": [
        "#print number in same line\n",
        "\n",
        "for i in range(10):\n",
        " print(i,end=\"\")\n",
        "\n",
        " #end=\"\" lets you stay on the same line.\n"
      ],
      "metadata": {
        "colab": {
          "base_uri": "https://localhost:8080/"
        },
        "id": "CErPOgv-wfjo",
        "outputId": "fee9adfe-6b80-46de-d62c-f807e1a35e2b"
      },
      "execution_count": null,
      "outputs": [
        {
          "output_type": "stream",
          "name": "stdout",
          "text": [
            "0123456789"
          ]
        }
      ]
    },
    {
      "cell_type": "code",
      "source": [
        "#calculate the sum of list\n",
        "\n",
        "my_list = [2, 5, 8, 13, 28]\n",
        "sum = 0\n",
        "\n",
        "for item in my_list:\n",
        "    sum = sum + item\n",
        "\n",
        "print(\"The Sum is:\", sum)\n"
      ],
      "metadata": {
        "colab": {
          "base_uri": "https://localhost:8080/"
        },
        "id": "DKKJAguAxbsG",
        "outputId": "dbc48220-966d-475b-b3cc-a646ab520711"
      },
      "execution_count": null,
      "outputs": [
        {
          "output_type": "stream",
          "name": "stdout",
          "text": [
            "The Sum is: 56\n"
          ]
        }
      ]
    },
    {
      "cell_type": "code",
      "source": [
        "#Table print Take input from user\n",
        "\n",
        "num=int(input(\"Enter the Number:\"))\n",
        "for i in range(1,11):\n",
        "  print(num,\"*\",i,\"=\",num*i)\n"
      ],
      "metadata": {
        "colab": {
          "base_uri": "https://localhost:8080/"
        },
        "id": "eQjrdlrwzHNm",
        "outputId": "a46d8120-98ce-4784-d0c2-a0140297c55a"
      },
      "execution_count": null,
      "outputs": [
        {
          "output_type": "stream",
          "name": "stdout",
          "text": [
            "Enter the Number:12\n",
            "12 * 1 = 12\n",
            "12 * 2 = 24\n",
            "12 * 3 = 36\n",
            "12 * 4 = 48\n",
            "12 * 5 = 60\n",
            "12 * 6 = 72\n",
            "12 * 7 = 84\n",
            "12 * 8 = 96\n",
            "12 * 9 = 108\n",
            "12 * 10 = 120\n"
          ]
        }
      ]
    },
    {
      "cell_type": "markdown",
      "source": [
        "# **Break**\n",
        "\n",
        "↪ loop will terminted after break statement.\n",
        "\n",
        "↪ The break statement is used in loops to exit the loop immediately when a certain condition is met.\n",
        "\n",
        "```\n",
        "for i in range(1, 6):\n",
        "    if i == 3:\n",
        "        break  # Stop the loop when i equals 3\n",
        "    print(i)\n",
        "\n",
        "output\n",
        "1\n",
        "2\n",
        "\n",
        "\n",
        "Example 2:\n",
        "\n",
        "numbers = [1, 2, 3, 4, 5, 6, 7, 8, 9, 10]\n",
        "\n",
        "for num in numbers:\n",
        "    if num == 7:\n",
        "        print(\"Found 7!\")\n",
        "        break  # Stop the loop when we find the number 7\n",
        "        print(f\"Checked number: {num}\")\n",
        "\n",
        "```\n",
        "\n",
        "\n",
        "\n",
        "\n",
        "# **Continue**\n",
        "\n",
        "↪ continue skips the remaining code in the current iteration and jumps to the next iteration of the loop.\n",
        "\n",
        "↪ It’s useful for skipping certain conditions while still continuing to process other elements in the loop.\n",
        "```\n",
        "numbers = [1, 2, 3, 4, 5, 6, 7, 8, 9, 10]\n",
        "\n",
        "for num in numbers:\n",
        "    if num == 7:\n",
        "      \n",
        "      continue # Skip the loop when we find the number 7\n",
        "    print(f\"Checked number: {num}\")\n",
        "\n",
        "```\n",
        "\n"
      ],
      "metadata": {
        "id": "e9Z36cU80CYN"
      }
    },
    {
      "cell_type": "code",
      "source": [
        "\n",
        "#Break Example\n",
        "numbers = [1, 2, 3, 4, 5, 6, 7, 8, 9, 10]\n",
        "\n",
        "for num in numbers:\n",
        "    if num == 7:\n",
        "        print(\"Found 7!\")\n",
        "        break  # Stop the loop when we find the number 7\n",
        "    print(f\"Checked number: {num}\")\n"
      ],
      "metadata": {
        "colab": {
          "base_uri": "https://localhost:8080/"
        },
        "id": "KzsoMTCB2dYy",
        "outputId": "a141b9a9-04b0-4cd4-8203-89241df4af2d"
      },
      "execution_count": null,
      "outputs": [
        {
          "output_type": "stream",
          "name": "stdout",
          "text": [
            "Checked number: 1\n",
            "Checked number: 2\n",
            "Checked number: 3\n",
            "Checked number: 4\n",
            "Checked number: 5\n",
            "Checked number: 6\n",
            "Found 7!\n"
          ]
        }
      ]
    },
    {
      "cell_type": "code",
      "source": [
        "#Continue Example\n",
        "numbers = [1, 2, 3, 4, 5, 6, 7, 8, 9, 10]\n",
        "\n",
        "for num in numbers:\n",
        "    if num == 7:\n",
        "\n",
        "        continue # Skip the loop when we find the number 7\n",
        "    print(f\"Checked number: {num}\")"
      ],
      "metadata": {
        "colab": {
          "base_uri": "https://localhost:8080/"
        },
        "id": "XC9FPwrl3hHo",
        "outputId": "f381e9d8-fda6-460a-e7e3-e3a53aa582fc"
      },
      "execution_count": null,
      "outputs": [
        {
          "output_type": "stream",
          "name": "stdout",
          "text": [
            "Checked number: 1\n",
            "Checked number: 2\n",
            "Checked number: 3\n",
            "Checked number: 4\n",
            "Checked number: 5\n",
            "Checked number: 6\n",
            "Checked number: 8\n",
            "Checked number: 9\n",
            "Checked number: 10\n"
          ]
        }
      ]
    }
  ]
}