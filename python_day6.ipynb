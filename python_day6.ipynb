{
  "nbformat": 4,
  "nbformat_minor": 0,
  "metadata": {
    "colab": {
      "provenance": [],
      "authorship_tag": "ABX9TyOyeAcocUh4FUBbvLx2CMqQ",
      "include_colab_link": true
    },
    "kernelspec": {
      "name": "python3",
      "display_name": "Python 3"
    },
    "language_info": {
      "name": "python"
    }
  },
  "cells": [
    {
      "cell_type": "markdown",
      "metadata": {
        "id": "view-in-github",
        "colab_type": "text"
      },
      "source": [
        "<a href=\"https://colab.research.google.com/github/iamrajveer759/Data-Science-With-Machine-Learning/blob/main/python_day6.ipynb\" target=\"_parent\"><img src=\"https://colab.research.google.com/assets/colab-badge.svg\" alt=\"Open In Colab\"/></a>"
      ]
    },
    {
      "cell_type": "markdown",
      "source": [
        "## **Function**\n",
        "\n",
        "↪  Block of Code which only run when it called.\n",
        "↪ The function helps to programmer to  break  the program into small part.\n",
        "↪ Using function we can avoid rewriting the same logic/code again and again in program\n",
        "\n",
        "### **There are two types of functions** :\n",
        "\n",
        "Pre-defined functions\n",
        "\n",
        "\n",
        "*   Pre-defined functions\n",
        "\n",
        "     * Example: print(), input().\n",
        "\n",
        "*   User defined functions\n",
        "\n",
        "     *  Created by the programmer.\n",
        "    \n",
        "\n",
        "### **Creating Functions?**\n",
        "\n",
        "\n",
        "*  Use the def keyword.\n",
        "* Function name followed by parentheses.\n",
        "* Indented block for the function body.\n",
        "* return statement to return a value (optional).\n",
        "\n",
        "```\n",
        "#Syntax:\n",
        "def function_name(parameters):\n",
        "    # Function block\n",
        "    return expression\n",
        "```\n",
        "\n",
        "```\n",
        "def my_function():\n",
        "    print(\"Hello\")\n",
        "```\n",
        "\n",
        "\n",
        "### **Functions Calling ?**\n",
        "\n",
        "↪  A function must be define before the function call\n",
        "\n",
        "↪  A function call is how you tell Python to run the code inside a function.\n",
        "\n",
        "↪  You call the function by using its name followed by parentheses, optionally passing any required arguments inside those parentheses.\n",
        "\n",
        "\n",
        "```\n",
        "#Example\n",
        "def define_function():  # function define\n",
        "    print(\"Hello\")\n",
        "\n",
        "    define_function() # function call\n",
        "\n",
        "    Note:  The function call many time you want.\n",
        "\n",
        "```\n"
      ],
      "metadata": {
        "id": "WA5HBGBWFyct"
      }
    },
    {
      "cell_type": "code",
      "source": [
        "def my_function():\n",
        "    print(\"Hello\")"
      ],
      "metadata": {
        "id": "MfdNrhHRXtAL"
      },
      "execution_count": 1,
      "outputs": []
    },
    {
      "cell_type": "code",
      "source": [
        "def define_function():  # function define\n",
        "    print(\"Hello\")\n",
        "\n",
        "    define_function() # function call"
      ],
      "metadata": {
        "id": "PnIc3WY8XtSw"
      },
      "execution_count": null,
      "outputs": []
    },
    {
      "cell_type": "markdown",
      "source": [
        "###**Global Veriable**\n",
        "\n",
        "↔ Veriable define outside any function is global scope\n",
        "\n",
        "\n",
        "###**local Veriable**\n",
        "\n",
        "↔ Veriable define inside function is called local scope\n",
        "\n",
        "\n",
        "\n",
        "###**Lamda Function**\n",
        "\n",
        "* Anonymous functions that are defined using the lambda keyword.\n",
        "\n",
        "\n",
        "\n",
        "```\n",
        "\n",
        "# Syntax:\n",
        "\n",
        "lambda argument:\n",
        "expersion\n",
        "\n",
        "```\n",
        "\n",
        "\n",
        "\n",
        "\n",
        "\n",
        "```\n",
        "\n",
        "# Example\n",
        "\n",
        "add = lambda x, y: x + y\n",
        "\n",
        "print(add(3, 5))  # Output: 8\n",
        "\n",
        "```\n",
        "\n",
        "\n",
        "```\n",
        "\n",
        "# Example\n",
        "\n",
        "x=lambda a:a+10\n",
        "print(x)\n",
        "\n",
        "```\n",
        "\n",
        "\n",
        "\n",
        "\n",
        "\n",
        "\n",
        "\n",
        "###**parameters**\n",
        "\n",
        "↔  parameters is the Veriable listed inside the parenthesis n the function define\n",
        "\n",
        "↔  is veriable which we use in the function define\n",
        "\n",
        "\n",
        "###**Argument**\n",
        "\n",
        "↔  Argument is value that sent to the function when it called.\n",
        "\n",
        "\n"
      ],
      "metadata": {
        "id": "wp8lrSweb0rA"
      }
    }
  ]
}